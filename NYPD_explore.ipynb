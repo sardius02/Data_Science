{
 "cells": [
  {
   "cell_type": "code",
   "execution_count": 46,
   "metadata": {},
   "outputs": [],
   "source": [
    "# Data Manipulation\n",
    "import pandas as pd\n",
    "# Calculations and Numerical Operations\n",
    "import numpy as np\n",
    "# Data Visualization\n",
    "import plotly\n",
    "from plotly import tools\n",
    "import plotly.offline as py\n",
    "from plotly.offline import download_plotlyjs, init_notebook_mode, plot, iplot\n",
    "import plotly.graph_objs as go\n",
    "from plotly.tools import make_subplots\n",
    "# Geographic Data Visualization\n",
    "import matplotlib.pyplot as plt\n",
    "%matplotlib inline\n",
    "import folium\n",
    "from folium import features\n",
    "from folium.plugins import HeatMap\n",
    "from folium.plugins import MarkerCluster, FastMarkerCluster\n",
    "import gmplot\n",
    "from IPython.display import display\n",
    "import gmaps\n",
    "from IPython.display import IFrame\n",
    "import seaborn as sns"
   ]
  },
  {
   "cell_type": "code",
   "execution_count": 25,
   "metadata": {
    "ExecuteTime": {
     "start_time": "2019-09-07T05:36:26.539Z"
    }
   },
   "outputs": [
    {
     "name": "stderr",
     "output_type": "stream",
     "text": [
      "C:\\Users\\Steven\\AnacondaNew\\lib\\site-packages\\IPython\\core\\interactiveshell.py:3057: DtypeWarning:\n",
      "\n",
      "Columns (4) have mixed types. Specify dtype option on import or set low_memory=False.\n",
      "\n"
     ]
    },
    {
     "data": {
      "text/plain": [
       "Index(['Unnamed: 0', 'DATE', 'TIME', 'BOROUGH', 'ZIP CODE', 'LATITUDE',\n",
       "       'LONGITUDE', 'LOCATION', 'ON STREET NAME', 'CROSS STREET NAME',\n",
       "       'OFF STREET NAME', 'NUMBER OF PERSONS INJURED',\n",
       "       'NUMBER OF PERSONS KILLED', 'NUMBER OF PEDESTRIANS INJURED',\n",
       "       'NUMBER OF PEDESTRIANS KILLED', 'NUMBER OF CYCLIST INJURED',\n",
       "       'NUMBER OF CYCLIST KILLED', 'NUMBER OF MOTORIST INJURED',\n",
       "       'NUMBER OF MOTORIST KILLED', 'CONTRIBUTING FACTOR VEHICLE 1',\n",
       "       'CONTRIBUTING FACTOR VEHICLE 2', 'CONTRIBUTING FACTOR VEHICLE 3',\n",
       "       'CONTRIBUTING FACTOR VEHICLE 4', 'CONTRIBUTING FACTOR VEHICLE 5',\n",
       "       'UNIQUE KEY', 'VEHICLE TYPE CODE 1', 'VEHICLE TYPE CODE 2',\n",
       "       'VEHICLE TYPE CODE 3', 'VEHICLE TYPE CODE 4', 'VEHICLE TYPE CODE 5'],\n",
       "      dtype='object')"
      ]
     },
     "execution_count": 25,
     "metadata": {},
     "output_type": "execute_result"
    }
   ],
   "source": [
    "df = pd.read_csv('NYPD.csv')\n",
    "df.columns"
   ]
  },
  {
   "cell_type": "code",
   "execution_count": 3,
   "metadata": {},
   "outputs": [],
   "source": [
    "west, south, east, north = -84.03, 30.63, -63.77, 50.85\n",
    "\n",
    "df = df[(df.LATITUDE> south) & (df.LATITUDE < north)]\n",
    "df = df[(df.LONGITUDE> west) & (df.LONGITUDE < east)]\n",
    "\n",
    "data = {'lon': df['LONGITUDE'].values, 'lat': df['LATITUDE'].values}\n",
    "mf = pd.DataFrame(data, columns=['lon', 'lat'])"
   ]
  },
  {
   "cell_type": "code",
   "execution_count": 18,
   "metadata": {},
   "outputs": [
    {
     "data": {
      "text/html": [
       "\n",
       "        <iframe\n",
       "            width=\"1100\"\n",
       "            height=\"900\"\n",
       "            src=\"./heatmap.html\"\n",
       "            frameborder=\"0\"\n",
       "            allowfullscreen\n",
       "        ></iframe>\n",
       "        "
      ],
      "text/plain": [
       "<IPython.lib.display.IFrame at 0x1e728f8beb8>"
      ]
     },
     "execution_count": 18,
     "metadata": {},
     "output_type": "execute_result"
    }
   ],
   "source": [
    "hm = folium.Map(location=[40.731950, -73.890480],\n",
    "                        zoom_start=11,\n",
    "                        tiles=\"CartoDB dark_matter\")\n",
    "heat_map = HeatMap(list(zip(mf.lat.values, mf.lon.values)), \n",
    "     min_opacity=0.2,\n",
    "     radius=9, blur=15,\n",
    "     max_zoom=1\n",
    ")\n",
    "hm.add_child(heat_map)\n",
    "hm.save('heatmap.html')\n",
    "IFrame(src='./heatmap.html', width=1100, height=900)"
   ]
  },
  {
   "cell_type": "code",
   "execution_count": 15,
   "metadata": {
    "scrolled": false
   },
   "outputs": [
    {
     "data": {
      "text/html": [
       "\n",
       "        <iframe\n",
       "            width=\"1100\"\n",
       "            height=\"900\"\n",
       "            src=\"./cluster.html\"\n",
       "            frameborder=\"0\"\n",
       "            allowfullscreen\n",
       "        ></iframe>\n",
       "        "
      ],
      "text/plain": [
       "<IPython.lib.display.IFrame at 0x1e728fa2b70>"
      ]
     },
     "execution_count": 15,
     "metadata": {},
     "output_type": "execute_result"
    }
   ],
   "source": [
    "cluster = folium.Map(location=[40.731950, -73.890480],\n",
    "                        zoom_start=12,\n",
    "                        tiles=\"CartoDB dark_matter\")\n",
    "mc = MarkerCluster()\n",
    "for ind,row in mf.iterrows():\n",
    "    mc.add_child(folium.CircleMarker(location=[row['lat'],row['lon']],\n",
    "                        radius=1,color='#3185cc'))\n",
    "    #############################\n",
    "cluster.add_child(mc)\n",
    "cluster.save('cluster.html')\n",
    "IFrame(src='./cluster.html', width=1100, height=900)"
   ]
  },
  {
   "cell_type": "code",
   "execution_count": 6,
   "metadata": {},
   "outputs": [
    {
     "name": "stdout",
     "output_type": "stream",
     "text": [
      "BROOKLYN         31634\n",
      "QUEENS           27250\n",
      "MANHATTAN        24451\n",
      "BRONX            14057\n",
      "STATEN ISLAND     4554\n",
      "Name: BOROUGH, dtype: int64\n"
     ]
    }
   ],
   "source": [
    "print(df['BOROUGH'].value_counts())"
   ]
  },
  {
   "cell_type": "code",
   "execution_count": 51,
   "metadata": {},
   "outputs": [
    {
     "name": "stdout",
     "output_type": "stream",
     "text": [
      "0.0     121447\n",
      "1.0      22022\n",
      "2.0       4171\n",
      "3.0       1402\n",
      "4.0        574\n",
      "5.0        228\n",
      "6.0         79\n",
      "7.0         31\n",
      "8.0         16\n",
      "9.0          9\n",
      "10.0         8\n",
      "11.0         5\n",
      "13.0         3\n",
      "12.0         2\n",
      "19.0         1\n",
      "Name: NUMBER OF PERSONS INJURED, dtype: int64\n"
     ]
    }
   ],
   "source": [
    "print(df['NUMBER OF PERSONS INJURED'].value_counts())"
   ]
  },
  {
   "cell_type": "code",
   "execution_count": 45,
   "metadata": {},
   "outputs": [],
   "source": [
    "corr = df[['BOROUGH', 'NUMBER OF PERSONS INJURED', 'NUMBER OF PERSONS KILLED']]"
   ]
  },
  {
   "cell_type": "code",
   "execution_count": 53,
   "metadata": {},
   "outputs": [
    {
     "data": {
      "text/plain": [
       "0         LENOX AVENUE                    \n",
       "1                                 AVENUE V\n",
       "2                                      NaN\n",
       "3                                      NaN\n",
       "4         EAST 172 STREET                 \n",
       "5         AVENUE H                        \n",
       "6         YUKON AVENUE                    \n",
       "7         CHAMBERS STREET                 \n",
       "8                                      NaN\n",
       "9         3 AVENUE                        \n",
       "10        38 STREET                       \n",
       "11                             MAIN STREET\n",
       "12                                     NaN\n",
       "13        BRIGGS AVENUE                   \n",
       "14        MOORE STREET                    \n",
       "15                                     NaN\n",
       "16        LIBERTY AVENUE                  \n",
       "17                                     NaN\n",
       "18        WEST 125 STREET                 \n",
       "19                                     NaN\n",
       "20        VANWYCK EXPRESSWAY              \n",
       "21                                     NaN\n",
       "22        GRAND AVENUE                    \n",
       "23                                     NaN\n",
       "24                                     NaN\n",
       "25                                     NaN\n",
       "26                                     NaN\n",
       "27                           OCEAN PARKWAY\n",
       "28        9 AVENUE                        \n",
       "29                         FAIRMOUNT PLACE\n",
       "                        ...               \n",
       "149970                 WOODHAVEN BOULEVARD\n",
       "149971                                 NaN\n",
       "149972    ARDEN AVENUE                    \n",
       "149973    BAY 52 STREET                   \n",
       "149974    NORTH 12 STREET                 \n",
       "149975    5 AVENUE                        \n",
       "149976                      WEST 42 STREET\n",
       "149977    EAST 156 STREET                 \n",
       "149978                                 NaN\n",
       "149979                      WEST 36 STREET\n",
       "149980    110 ROAD                        \n",
       "149981                                 NaN\n",
       "149982                     WEST 147 STREET\n",
       "149983                                 NaN\n",
       "149984    EAST CLARKE PLACE               \n",
       "149985    PARK PLACE                      \n",
       "149986                                 NaN\n",
       "149987                                 NaN\n",
       "149988                     CRAWFORD AVENUE\n",
       "149989                                 NaN\n",
       "149990                                 NaN\n",
       "149991    87 STREET                       \n",
       "149992                                 NaN\n",
       "149993                     SEDGWICK AVENUE\n",
       "149994                                 NaN\n",
       "149995                                 NaN\n",
       "149996    7 AVENUE                        \n",
       "149997    28 STREET                       \n",
       "149998    MADISON AVENUE                  \n",
       "149999                                 NaN\n",
       "Name: CROSS STREET NAME, Length: 150000, dtype: object"
      ]
     },
     "execution_count": 53,
     "metadata": {},
     "output_type": "execute_result"
    }
   ],
   "source": [
    "df['CROSS STREET NAME']"
   ]
  },
  {
   "cell_type": "code",
   "execution_count": 57,
   "metadata": {},
   "outputs": [
    {
     "data": {
      "text/plain": [
       "Unnamed: 0                            0\n",
       "DATE                                  0\n",
       "TIME                                  0\n",
       "BOROUGH                           45166\n",
       "ZIP CODE                          45184\n",
       "LATITUDE                          18741\n",
       "LONGITUDE                         18741\n",
       "LOCATION                          18741\n",
       "ON STREET NAME                    28761\n",
       "CROSS STREET NAME                 48878\n",
       "OFF STREET NAME                  130069\n",
       "NUMBER OF PERSONS INJURED             2\n",
       "NUMBER OF PERSONS KILLED              2\n",
       "NUMBER OF PEDESTRIANS INJURED         0\n",
       "NUMBER OF PEDESTRIANS KILLED          0\n",
       "NUMBER OF CYCLIST INJURED             0\n",
       "NUMBER OF CYCLIST KILLED              0\n",
       "NUMBER OF MOTORIST INJURED            0\n",
       "NUMBER OF MOTORIST KILLED             0\n",
       "CONTRIBUTING FACTOR VEHICLE 1       361\n",
       "CONTRIBUTING FACTOR VEHICLE 2     19880\n",
       "CONTRIBUTING FACTOR VEHICLE 3    140421\n",
       "CONTRIBUTING FACTOR VEHICLE 4    147991\n",
       "CONTRIBUTING FACTOR VEHICLE 5    149510\n",
       "UNIQUE KEY                            0\n",
       "VEHICLE TYPE CODE 1                 445\n",
       "VEHICLE TYPE CODE 2               24297\n",
       "VEHICLE TYPE CODE 3              137571\n",
       "VEHICLE TYPE CODE 4              145298\n",
       "VEHICLE TYPE CODE 5              148981\n",
       "dtype: int64"
      ]
     },
     "execution_count": 57,
     "metadata": {},
     "output_type": "execute_result"
    }
   ],
   "source": [
    "df.isna().sum()"
   ]
  }
 ],
 "metadata": {
  "kernelspec": {
   "display_name": "Python 3",
   "language": "python",
   "name": "python3"
  },
  "language_info": {
   "codemirror_mode": {
    "name": "ipython",
    "version": 3
   },
   "file_extension": ".py",
   "mimetype": "text/x-python",
   "name": "python",
   "nbconvert_exporter": "python",
   "pygments_lexer": "ipython3",
   "version": "3.7.3"
  },
  "toc": {
   "base_numbering": 1,
   "nav_menu": {},
   "number_sections": true,
   "sideBar": true,
   "skip_h1_title": false,
   "title_cell": "Table of Contents",
   "title_sidebar": "Contents",
   "toc_cell": false,
   "toc_position": {},
   "toc_section_display": true,
   "toc_window_display": false
  }
 },
 "nbformat": 4,
 "nbformat_minor": 2
}
