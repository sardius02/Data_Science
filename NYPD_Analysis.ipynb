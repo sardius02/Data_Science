{
 "cells": [
  {
   "cell_type": "code",
   "execution_count": 126,
   "metadata": {},
   "outputs": [],
   "source": [
    "# Data Manipulation\n",
    "import pandas as pd\n",
    "# Calculations and Numerical Operations\n",
    "import numpy as np\n",
    "# Data Visualization\n",
    "import plotly\n",
    "import seaborn as sns\n",
    "# Geographic Data Visualization\n",
    "import matplotlib.pyplot as plt\n",
    "%matplotlib inline\n",
    "import folium\n",
    "from folium.plugins import HeatMap\n",
    "from folium.plugins import MarkerCluster\n",
    "from IPython.display import display\n",
    "import gmaps\n",
    "from IPython.display import IFrame\n",
    "from geopy.geocoders import Nominatim"
   ]
  },
  {
   "cell_type": "code",
   "execution_count": 114,
   "metadata": {
    "ExecuteTime": {
     "start_time": "2019-09-07T05:36:26.539Z"
    }
   },
   "outputs": [
    {
     "data": {
      "text/plain": [
       "Index(['Unnamed: 0', 'DATE', 'TIME', 'BOROUGH', 'ZIP CODE', 'LATITUDE',\n",
       "       'LONGITUDE', 'LOCATION', 'ON STREET NAME', 'CROSS STREET NAME',\n",
       "       'OFF STREET NAME', 'NUMBER OF PERSONS INJURED',\n",
       "       'NUMBER OF PERSONS KILLED', 'NUMBER OF PEDESTRIANS INJURED',\n",
       "       'NUMBER OF PEDESTRIANS KILLED', 'NUMBER OF CYCLIST INJURED',\n",
       "       'NUMBER OF CYCLIST KILLED', 'NUMBER OF MOTORIST INJURED',\n",
       "       'NUMBER OF MOTORIST KILLED', 'CONTRIBUTING FACTOR VEHICLE 1',\n",
       "       'CONTRIBUTING FACTOR VEHICLE 2', 'CONTRIBUTING FACTOR VEHICLE 3',\n",
       "       'CONTRIBUTING FACTOR VEHICLE 4', 'CONTRIBUTING FACTOR VEHICLE 5',\n",
       "       'UNIQUE KEY', 'VEHICLE TYPE CODE 1', 'VEHICLE TYPE CODE 2',\n",
       "       'VEHICLE TYPE CODE 3', 'VEHICLE TYPE CODE 4', 'VEHICLE TYPE CODE 5'],\n",
       "      dtype='object')"
      ]
     },
     "execution_count": 114,
     "metadata": {},
     "output_type": "execute_result"
    }
   ],
   "source": [
    "df = pd.read_csv('NYPD.csv')\n",
    "df.columns"
   ]
  },
  {
   "cell_type": "code",
   "execution_count": 115,
   "metadata": {},
   "outputs": [],
   "source": [
    "# Set edge borders for the heatmap and cluster visualization\n",
    "west, south, east, north = -84.03, 30.63, -63.77, 50.85\n",
    "df = df[(df.LATITUDE> south) & (df.LATITUDE < north)]\n",
    "df = df[(df.LONGITUDE> west) & (df.LONGITUDE < east)]\n",
    "df.rename(columns={'LATITUDE':'lat', 'LONGITUDE':'lon'}, inplace=True)"
   ]
  },
  {
   "cell_type": "code",
   "execution_count": 60,
   "metadata": {},
   "outputs": [
    {
     "data": {
      "text/html": [
       "\n",
       "        <iframe\n",
       "            width=\"1100\"\n",
       "            height=\"900\"\n",
       "            src=\"./heatmap.html\"\n",
       "            frameborder=\"0\"\n",
       "            allowfullscreen\n",
       "        ></iframe>\n",
       "        "
      ],
      "text/plain": [
       "<IPython.lib.display.IFrame at 0x221e22d78d0>"
      ]
     },
     "execution_count": 60,
     "metadata": {},
     "output_type": "execute_result"
    }
   ],
   "source": [
    "hm = folium.Map(location=[40.731950, -73.890480],\n",
    "                        zoom_start=11,\n",
    "                        tiles=\"CartoDB dark_matter\")\n",
    "heat_map = HeatMap(list(zip(df['lat'], df['lon'])), min_opacity=0.2, radius=9, blur=15, max_zoom=1)\n",
    "hm.add_child(heat_map)\n",
    "hm.save('heatmap.html')\n",
    "IFrame(src='./heatmap.html', width=1100, height=900)"
   ]
  },
  {
   "cell_type": "code",
   "execution_count": 62,
   "metadata": {
    "scrolled": false
   },
   "outputs": [
    {
     "data": {
      "text/html": [
       "\n",
       "        <iframe\n",
       "            width=\"1100\"\n",
       "            height=\"900\"\n",
       "            src=\"./cluster.html\"\n",
       "            frameborder=\"0\"\n",
       "            allowfullscreen\n",
       "        ></iframe>\n",
       "        "
      ],
      "text/plain": [
       "<IPython.lib.display.IFrame at 0x221e1871a90>"
      ]
     },
     "execution_count": 62,
     "metadata": {},
     "output_type": "execute_result"
    }
   ],
   "source": [
    "cluster = folium.Map(location=[40.731950, -73.890480],\n",
    "                        zoom_start=12,\n",
    "                        tiles=\"CartoDB dark_matter\")\n",
    "mc = MarkerCluster()\n",
    "for ind,row in mf.iterrows():\n",
    "    mc.add_child(folium.CircleMarker(location=[row['lat'],row['lon']],\n",
    "                        radius=1,color='#3185cc'))\n",
    "cluster.add_child(mc)\n",
    "cluster.save('cluster.html')\n",
    "IFrame(src='./cluster.html', width=1100, height=900)"
   ]
  },
  {
   "cell_type": "code",
   "execution_count": 35,
   "metadata": {},
   "outputs": [
    {
     "data": {
      "text/plain": [
       "BROOKLYN         31634\n",
       "QUEENS           27250\n",
       "MANHATTAN        24451\n",
       "BRONX            14057\n",
       "STATEN ISLAND     4554\n",
       "Name: BOROUGH, dtype: int64"
      ]
     },
     "execution_count": 35,
     "metadata": {},
     "output_type": "execute_result"
    }
   ],
   "source": [
    "df['BOROUGH'].value_counts()"
   ]
  },
  {
   "cell_type": "code",
   "execution_count": 36,
   "metadata": {},
   "outputs": [
    {
     "data": {
      "text/plain": [
       "Unnamed: 0                            0\n",
       "DATE                                  0\n",
       "TIME                                  0\n",
       "BOROUGH                           29202\n",
       "ZIP CODE                          29219\n",
       "LATITUDE                              0\n",
       "LONGITUDE                             0\n",
       "LOCATION                              0\n",
       "ON STREET NAME                    23735\n",
       "CROSS STREET NAME                 42089\n",
       "OFF STREET NAME                  113344\n",
       "NUMBER OF PERSONS INJURED             1\n",
       "NUMBER OF PERSONS KILLED              1\n",
       "NUMBER OF PEDESTRIANS INJURED         0\n",
       "NUMBER OF PEDESTRIANS KILLED          0\n",
       "NUMBER OF CYCLIST INJURED             0\n",
       "NUMBER OF CYCLIST KILLED              0\n",
       "NUMBER OF MOTORIST INJURED            0\n",
       "NUMBER OF MOTORIST KILLED             0\n",
       "CONTRIBUTING FACTOR VEHICLE 1       317\n",
       "CONTRIBUTING FACTOR VEHICLE 2     17731\n",
       "CONTRIBUTING FACTOR VEHICLE 3    122788\n",
       "CONTRIBUTING FACTOR VEHICLE 4    129382\n",
       "CONTRIBUTING FACTOR VEHICLE 5    130713\n",
       "UNIQUE KEY                            0\n",
       "VEHICLE TYPE CODE 1                 410\n",
       "VEHICLE TYPE CODE 2               21887\n",
       "VEHICLE TYPE CODE 3              120163\n",
       "VEHICLE TYPE CODE 4              126893\n",
       "VEHICLE TYPE CODE 5              130232\n",
       "dtype: int64"
      ]
     },
     "execution_count": 36,
     "metadata": {},
     "output_type": "execute_result"
    }
   ],
   "source": [
    "df.isna().sum()"
   ]
  },
  {
   "cell_type": "code",
   "execution_count": 64,
   "metadata": {},
   "outputs": [
    {
     "data": {
      "text/plain": [
       "0            40.816662, -73.9389911\n",
       "1               40.59713, -73.95221\n",
       "4           40.8423355, -73.9161838\n",
       "5    40.631707500000005, -73.946481\n",
       "7           40.7171751, -74.0128675\n",
       "Name: location, dtype: object"
      ]
     },
     "execution_count": 64,
     "metadata": {},
     "output_type": "execute_result"
    }
   ],
   "source": [
    "df['location'] = df['lat'].astype(str) + ', ' + df['lon'].astype(str)\n",
    "df['location'].head()"
   ]
  },
  {
   "cell_type": "code",
   "execution_count": 73,
   "metadata": {},
   "outputs": [
    {
     "data": {
      "text/plain": [
       "40.608757000000004, -74.03808599999999    66\n",
       "40.8047, -73.91243                        55\n",
       "40.658577799999996, -73.89062290000001    50\n",
       "40.696034600000004, -73.9845292           49\n",
       "40.696033, -73.98453                      46\n",
       "40.7606005, -73.9643142                   46\n",
       "40.798256, -73.82744                      45\n",
       "40.604153000000004, -74.05198             44\n",
       "40.7572323, -73.9897922                   43\n",
       "40.861862, -73.91282                      43\n",
       "Name: location, dtype: int64"
      ]
     },
     "execution_count": 73,
     "metadata": {},
     "output_type": "execute_result"
    }
   ],
   "source": [
    "frequency = df['location'].value_counts()\n",
    "frequency.head(10)"
   ]
  },
  {
   "cell_type": "code",
   "execution_count": 74,
   "metadata": {},
   "outputs": [
    {
     "data": {
      "text/plain": [
       "<matplotlib.axes._subplots.AxesSubplot at 0x2219d8a9c50>"
      ]
     },
     "execution_count": 74,
     "metadata": {},
     "output_type": "execute_result"
    },
    {
     "data": {
      "image/png": "[encoded data removed]",
      "text/plain": [
       "<Figure size 432x288 with 1 Axes>"
      ]
     },
     "metadata": {
      "needs_background": "light"
     },
     "output_type": "display_data"
    }
   ],
   "source": [
    "frequency.nlargest(10).plot()"
   ]
  },
  {
   "cell_type": "code",
   "execution_count": 70,
   "metadata": {
    "scrolled": true
   },
   "outputs": [
    {
     "name": "stderr",
     "output_type": "stream",
     "text": [
      "C:\\Users\\Steven\\AnacondaNew\\lib\\site-packages\\ipykernel_launcher.py:1: DeprecationWarning:\n",
      "\n",
      "Using Nominatim with the default \"geopy/1.20.0\" `user_agent` is strongly discouraged, as it violates Nominatim's ToS https://operations.osmfoundation.org/policies/nominatim/ and may possibly cause 403 and 429 HTTP errors. Please specify a custom `user_agent` with `Nominatim(user_agent=\"my-application\")` or by overriding the default `user_agent`: `geopy.geocoders.options.default_user_agent = \"my-application\"`. In geopy 2.0 this will become an exception.\n",
      "\n"
     ]
    },
    {
     "name": "stdout",
     "output_type": "stream",
     "text": [
      "Verrazzano-Narrows Bridge (Staten Island Bound), Fort Hamilton, BK, Kings County, NYC, New York, 11252, USA\n",
      "\n",
      "East 138th Street, Port Morris, The Bronx, Bronx County, NYC, New York, 10454, USA\n",
      "\n",
      "Pennsylvania Avenue, East New York, BK, Kings County, NYC, New York, 11239, USA\n",
      "\n",
      "Flatbush Avenue Extension, Downtown Brooklyn, BK, Kings County, NYC, New York, 11201-1832, USA\n",
      "\n",
      "Flatbush Avenue Extension, Downtown Brooklyn, BK, Kings County, NYC, New York, 11201-1832, USA\n",
      "\n",
      "The Landmark, 300, East 59th Street, Midtown East, Manhattan Community Board 8, Manhattan, New York County, NYC, New York, 10022, USA\n",
      "\n",
      "Bronx-Whitestone Bridge, Whitestone Bridge (Toll), The Bronx, Queens County, NYC, New York, 11357, USA\n",
      "\n",
      "Verrazzano-Narrows Bridge, Fort Hamilton, BK, Kings County, NYC, New York, 11252, USA\n",
      "\n",
      "11 Times Square, 11, 8th Avenue, Times Square, Theater District, Manhattan Community Board 5, Manhattan, New York County, NYC, New York, 10036, USA\n",
      "\n",
      "Major Deegan Expressway, University Heights, The Bronx, Bronx County, NYC, New York, 10463, USA\n",
      "\n"
     ]
    }
   ],
   "source": [
    "geolocator = Nominatim()\n",
    "for c in frequency.nlargest(10).index:\n",
    "    location = geolocator.reverse(c)\n",
    "    print(location.address + \"\\n\")"
   ]
  },
  {
   "cell_type": "code",
   "execution_count": 140,
   "metadata": {},
   "outputs": [],
   "source": [
    "df['DATE'] = pd.to_datetime(df['DATE'])\n",
    "df['Year'] = df['DATE'].dt.year\n",
    "df['Month'] = df['DATE'].dt.month\n",
    "df['Month'] = df['DATE'].dt.month"
   ]
  },
  {
   "cell_type": "code",
   "execution_count": 148,
   "metadata": {},
   "outputs": [
    {
     "data": {
      "text/plain": [
       "<matplotlib.axes._subplots.AxesSubplot at 0x221b1751278>"
      ]
     },
     "execution_count": 148,
     "metadata": {},
     "output_type": "execute_result"
    },
    {
     "data": {
      "image/png": "[encoded data removed]",
      "text/plain": [
       "<Figure size 864x864 with 2 Axes>"
      ]
     },
     "metadata": {
      "needs_background": "light"
     },
     "output_type": "display_data"
    },
    {
     "data": {
      "image/png": "[encoded data removed]",
      "text/plain": [
       "<Figure size 1728x864 with 1 Axes>"
      ]
     },
     "metadata": {
      "needs_background": "light"
     },
     "output_type": "display_data"
    }
   ],
   "source": [
    "boroughs = pd.DataFrame(df['BOROUGH'].value_counts())\n",
    "plt.figure(figsize = (12,12))\n",
    "plt.subplot2grid((2,2),(0,0))\n",
    "sns.barplot(x = boroughs.index, y = 'BOROUGH', data = boroughs)\n",
    "years = pd.DataFrame(df['Year'].value_counts())\n",
    "plt.subplot2grid((2,2),(0,1))\n",
    "sns.barplot(x = years.index, y = 'Year', data = years)\n",
    "df['Hour'] = df['TIME'].dt.hour \n",
    "hours = pd.DataFrame(df['Hour'].value_counts())\n",
    "plt.figure(figsize = (24,12))\n",
    "plt.subplot2grid((2,2),(0,0))\n",
    "sns.barplot(x = hours.index, y = 'Hour', data = hours)"
   ]
  }
 ],
 "metadata": {
  "kernelspec": {
   "display_name": "Python 3",
   "language": "python",
   "name": "python3"
  },
  "language_info": {
   "codemirror_mode": {
    "name": "ipython",
    "version": 3
   },
   "file_extension": ".py",
   "mimetype": "text/x-python",
   "name": "python",
   "nbconvert_exporter": "python",
   "pygments_lexer": "ipython3",
   "version": "3.7.3"
  },
  "toc": {
   "base_numbering": 1,
   "nav_menu": {},
   "number_sections": true,
   "sideBar": true,
   "skip_h1_title": false,
   "title_cell": "Table of Contents",
   "title_sidebar": "Contents",
   "toc_cell": false,
   "toc_position": {},
   "toc_section_display": true,
   "toc_window_display": false
  }
 },
 "nbformat": 4,
 "nbformat_minor": 2
}
