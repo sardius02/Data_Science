{
 "cells": [
  {
   "cell_type": "code",
   "execution_count": 39,
   "metadata": {},
   "outputs": [],
   "source": [
    "# Data Manipulation\n",
    "import pandas as pd\n",
    "# Calculations and Numerical Operations\n",
    "import numpy as np\n",
    "# Data Visualization\n",
    "import plotly\n",
    "from plotly import tools\n",
    "import plotly.offline as py\n",
    "from plotly.offline import download_plotlyjs, init_notebook_mode, plot, iplot\n",
    "import plotly.graph_objs as go\n",
    "from plotly.tools import make_subplots\n",
    "# Geographic Data Visualization\n",
    "import matplotlib.pyplot as plt\n",
    "%matplotlib inline\n",
    "import folium\n",
    "from folium import features\n",
    "from folium.plugins import HeatMap\n",
    "from folium.plugins import MarkerCluster, FastMarkerCluster\n",
    "import gmplot\n",
    "from IPython.display import display\n",
    "import gmaps\n",
    "from IPython.display import IFrame\n",
    "import seaborn as sns\n",
    "from geopy.geocoders import Nominatim"
   ]
  },
  {
   "cell_type": "code",
   "execution_count": 3,
   "metadata": {
    "ExecuteTime": {
     "start_time": "2019-09-07T05:36:26.539Z"
    }
   },
   "outputs": [
    {
     "name": "stderr",
     "output_type": "stream",
     "text": [
      "C:\\Users\\Steven\\AnacondaNew\\lib\\site-packages\\IPython\\core\\interactiveshell.py:3057: DtypeWarning:\n",
      "\n",
      "Columns (4) have mixed types. Specify dtype option on import or set low_memory=False.\n",
      "\n"
     ]
    },
    {
     "data": {
      "text/plain": [
       "Index(['Unnamed: 0', 'DATE', 'TIME', 'BOROUGH', 'ZIP CODE', 'LATITUDE',\n",
       "       'LONGITUDE', 'LOCATION', 'ON STREET NAME', 'CROSS STREET NAME',\n",
       "       'OFF STREET NAME', 'NUMBER OF PERSONS INJURED',\n",
       "       'NUMBER OF PERSONS KILLED', 'NUMBER OF PEDESTRIANS INJURED',\n",
       "       'NUMBER OF PEDESTRIANS KILLED', 'NUMBER OF CYCLIST INJURED',\n",
       "       'NUMBER OF CYCLIST KILLED', 'NUMBER OF MOTORIST INJURED',\n",
       "       'NUMBER OF MOTORIST KILLED', 'CONTRIBUTING FACTOR VEHICLE 1',\n",
       "       'CONTRIBUTING FACTOR VEHICLE 2', 'CONTRIBUTING FACTOR VEHICLE 3',\n",
       "       'CONTRIBUTING FACTOR VEHICLE 4', 'CONTRIBUTING FACTOR VEHICLE 5',\n",
       "       'UNIQUE KEY', 'VEHICLE TYPE CODE 1', 'VEHICLE TYPE CODE 2',\n",
       "       'VEHICLE TYPE CODE 3', 'VEHICLE TYPE CODE 4', 'VEHICLE TYPE CODE 5'],\n",
       "      dtype='object')"
      ]
     },
     "execution_count": 3,
     "metadata": {},
     "output_type": "execute_result"
    }
   ],
   "source": [
    "df = pd.read_csv('NYPD.csv')\n",
    "df.columns"
   ]
  },
  {
   "cell_type": "code",
   "execution_count": 47,
   "metadata": {},
   "outputs": [
    {
     "data": {
      "text/html": [
       "<div>\n",
       "<style scoped>\n",
       "    .dataframe tbody tr th:only-of-type {\n",
       "        vertical-align: middle;\n",
       "    }\n",
       "\n",
       "    .dataframe tbody tr th {\n",
       "        vertical-align: top;\n",
       "    }\n",
       "\n",
       "    .dataframe thead th {\n",
       "        text-align: right;\n",
       "    }\n",
       "</style>\n",
       "<table border=\"1\" class=\"dataframe\">\n",
       "  <thead>\n",
       "    <tr style=\"text-align: right;\">\n",
       "      <th></th>\n",
       "      <th>lon</th>\n",
       "      <th>lat</th>\n",
       "    </tr>\n",
       "  </thead>\n",
       "  <tbody>\n",
       "    <tr>\n",
       "      <th>0</th>\n",
       "      <td>-73.938991</td>\n",
       "      <td>40.816662</td>\n",
       "    </tr>\n",
       "    <tr>\n",
       "      <th>1</th>\n",
       "      <td>-73.952210</td>\n",
       "      <td>40.597130</td>\n",
       "    </tr>\n",
       "    <tr>\n",
       "      <th>2</th>\n",
       "      <td>-73.916184</td>\n",
       "      <td>40.842335</td>\n",
       "    </tr>\n",
       "    <tr>\n",
       "      <th>3</th>\n",
       "      <td>-73.946481</td>\n",
       "      <td>40.631708</td>\n",
       "    </tr>\n",
       "    <tr>\n",
       "      <th>4</th>\n",
       "      <td>-74.012867</td>\n",
       "      <td>40.717175</td>\n",
       "    </tr>\n",
       "  </tbody>\n",
       "</table>\n",
       "</div>"
      ],
      "text/plain": [
       "         lon        lat\n",
       "0 -73.938991  40.816662\n",
       "1 -73.952210  40.597130\n",
       "2 -73.916184  40.842335\n",
       "3 -73.946481  40.631708\n",
       "4 -74.012867  40.717175"
      ]
     },
     "execution_count": 47,
     "metadata": {},
     "output_type": "execute_result"
    }
   ],
   "source": [
    "west, south, east, north = -84.03, 30.63, -63.77, 50.85\n",
    "\n",
    "df = df[(df.LATITUDE> south) & (df.LATITUDE < north)]\n",
    "df = df[(df.LONGITUDE> west) & (df.LONGITUDE < east)]\n",
    "\n",
    "data = {'lon': df['LONGITUDE'].values, 'lat': df['LATITUDE'].values}\n",
    "mf = pd.DataFrame(data, columns=['lon', 'lat'])\n",
    "mf.head()"
   ]
  },
  {
   "cell_type": "code",
   "execution_count": 48,
   "metadata": {},
   "outputs": [
    {
     "data": {
      "text/html": [
       "\n",
       "        <iframe\n",
       "            width=\"1100\"\n",
       "            height=\"900\"\n",
       "            src=\"./heatmap.html\"\n",
       "            frameborder=\"0\"\n",
       "            allowfullscreen\n",
       "        ></iframe>\n",
       "        "
      ],
      "text/plain": [
       "<IPython.lib.display.IFrame at 0x2dc3637d588>"
      ]
     },
     "execution_count": 48,
     "metadata": {},
     "output_type": "execute_result"
    }
   ],
   "source": [
    "hm = folium.Map(location=[40.731950, -73.890480],\n",
    "                        zoom_start=11,\n",
    "                        tiles=\"CartoDB dark_matter\")\n",
    "heat_map = HeatMap(list(zip(mf.lat.values, mf.lon.values)), \n",
    "     min_opacity=0.2,\n",
    "     radius=9, blur=15,\n",
    "     max_zoom=1\n",
    ")\n",
    "hm.add_child(heat_map)\n",
    "hm.save('heatmap.html')\n",
    "IFrame(src='./heatmap.html', width=1100, height=900)"
   ]
  },
  {
   "cell_type": "code",
   "execution_count": null,
   "metadata": {
    "scrolled": false
   },
   "outputs": [],
   "source": [
    "cluster = folium.Map(location=[40.731950, -73.890480],\n",
    "                        zoom_start=12,\n",
    "                        tiles=\"CartoDB dark_matter\")\n",
    "mc = MarkerCluster()\n",
    "for ind,row in mf.iterrows():\n",
    "    mc.add_child(folium.CircleMarker(location=[row['lat'],row['lon']],\n",
    "                        radius=1,color='#3185cc'))\n",
    "cluster.add_child(mc)\n",
    "cluster.save('cluster.html')\n",
    "IFrame(src='./cluster.html', width=1100, height=900)"
   ]
  },
  {
   "cell_type": "code",
   "execution_count": 49,
   "metadata": {},
   "outputs": [
    {
     "name": "stdout",
     "output_type": "stream",
     "text": [
      "BROOKLYN         31634\n",
      "QUEENS           27250\n",
      "MANHATTAN        24451\n",
      "BRONX            14057\n",
      "STATEN ISLAND     4554\n",
      "Name: BOROUGH, dtype: int64\n"
     ]
    }
   ],
   "source": [
    "print(df['BOROUGH'].value_counts())"
   ]
  },
  {
   "cell_type": "code",
   "execution_count": 50,
   "metadata": {},
   "outputs": [
    {
     "name": "stdout",
     "output_type": "stream",
     "text": [
      "0.0     105962\n",
      "1.0      19549\n",
      "2.0       3606\n",
      "3.0       1207\n",
      "4.0        495\n",
      "5.0        195\n",
      "6.0         71\n",
      "7.0         26\n",
      "8.0         14\n",
      "10.0         8\n",
      "9.0          7\n",
      "11.0         3\n",
      "12.0         2\n",
      "13.0         1\n",
      "19.0         1\n",
      "Name: NUMBER OF PERSONS INJURED, dtype: int64\n"
     ]
    }
   ],
   "source": [
    "print(df['NUMBER OF PERSONS INJURED'].value_counts())"
   ]
  },
  {
   "cell_type": "code",
   "execution_count": 51,
   "metadata": {},
   "outputs": [],
   "source": [
    "corr = df[['BOROUGH', 'NUMBER OF PERSONS INJURED', 'NUMBER OF PERSONS KILLED']]"
   ]
  },
  {
   "cell_type": "code",
   "execution_count": 52,
   "metadata": {},
   "outputs": [
    {
     "data": {
      "text/plain": [
       "0         LENOX AVENUE                    \n",
       "1                                 AVENUE V\n",
       "4         EAST 172 STREET                 \n",
       "5         AVENUE H                        \n",
       "7         CHAMBERS STREET                 \n",
       "8                                      NaN\n",
       "9         3 AVENUE                        \n",
       "10        38 STREET                       \n",
       "11                             MAIN STREET\n",
       "12                                     NaN\n",
       "13        BRIGGS AVENUE                   \n",
       "15                                     NaN\n",
       "16        LIBERTY AVENUE                  \n",
       "17                                     NaN\n",
       "18        WEST 125 STREET                 \n",
       "19                                     NaN\n",
       "22        GRAND AVENUE                    \n",
       "23                                     NaN\n",
       "24                                     NaN\n",
       "27                           OCEAN PARKWAY\n",
       "28        9 AVENUE                        \n",
       "29                         FAIRMOUNT PLACE\n",
       "30                          HARDING AVENUE\n",
       "31                                     NaN\n",
       "32                                     NaN\n",
       "33                                     NaN\n",
       "35                                     NaN\n",
       "36                                     NaN\n",
       "37                               67 AVENUE\n",
       "38                              212 STREET\n",
       "                        ...               \n",
       "149967    54 AVENUE                       \n",
       "149968                                 NaN\n",
       "149970                 WOODHAVEN BOULEVARD\n",
       "149972    ARDEN AVENUE                    \n",
       "149973    BAY 52 STREET                   \n",
       "149974    NORTH 12 STREET                 \n",
       "149975    5 AVENUE                        \n",
       "149976                      WEST 42 STREET\n",
       "149978                                 NaN\n",
       "149979                      WEST 36 STREET\n",
       "149980    110 ROAD                        \n",
       "149981                                 NaN\n",
       "149982                     WEST 147 STREET\n",
       "149983                                 NaN\n",
       "149984    EAST CLARKE PLACE               \n",
       "149985    PARK PLACE                      \n",
       "149986                                 NaN\n",
       "149987                                 NaN\n",
       "149988                     CRAWFORD AVENUE\n",
       "149989                                 NaN\n",
       "149990                                 NaN\n",
       "149991    87 STREET                       \n",
       "149992                                 NaN\n",
       "149993                     SEDGWICK AVENUE\n",
       "149994                                 NaN\n",
       "149995                                 NaN\n",
       "149996    7 AVENUE                        \n",
       "149997    28 STREET                       \n",
       "149998    MADISON AVENUE                  \n",
       "149999                                 NaN\n",
       "Name: CROSS STREET NAME, Length: 131148, dtype: object"
      ]
     },
     "execution_count": 52,
     "metadata": {},
     "output_type": "execute_result"
    }
   ],
   "source": [
    "df['CROSS STREET NAME']"
   ]
  },
  {
   "cell_type": "code",
   "execution_count": 53,
   "metadata": {},
   "outputs": [
    {
     "data": {
      "text/plain": [
       "Unnamed: 0                            0\n",
       "DATE                                  0\n",
       "TIME                                  0\n",
       "BOROUGH                           29202\n",
       "ZIP CODE                          29219\n",
       "LATITUDE                              0\n",
       "LONGITUDE                             0\n",
       "LOCATION                              0\n",
       "ON STREET NAME                    23735\n",
       "CROSS STREET NAME                 42089\n",
       "OFF STREET NAME                  113344\n",
       "NUMBER OF PERSONS INJURED             1\n",
       "NUMBER OF PERSONS KILLED              1\n",
       "NUMBER OF PEDESTRIANS INJURED         0\n",
       "NUMBER OF PEDESTRIANS KILLED          0\n",
       "NUMBER OF CYCLIST INJURED             0\n",
       "NUMBER OF CYCLIST KILLED              0\n",
       "NUMBER OF MOTORIST INJURED            0\n",
       "NUMBER OF MOTORIST KILLED             0\n",
       "CONTRIBUTING FACTOR VEHICLE 1       317\n",
       "CONTRIBUTING FACTOR VEHICLE 2     17731\n",
       "CONTRIBUTING FACTOR VEHICLE 3    122788\n",
       "CONTRIBUTING FACTOR VEHICLE 4    129382\n",
       "CONTRIBUTING FACTOR VEHICLE 5    130713\n",
       "UNIQUE KEY                            0\n",
       "VEHICLE TYPE CODE 1                 410\n",
       "VEHICLE TYPE CODE 2               21887\n",
       "VEHICLE TYPE CODE 3              120163\n",
       "VEHICLE TYPE CODE 4              126893\n",
       "VEHICLE TYPE CODE 5              130232\n",
       "dtype: int64"
      ]
     },
     "execution_count": 53,
     "metadata": {},
     "output_type": "execute_result"
    }
   ],
   "source": [
    "df.isna().sum()"
   ]
  },
  {
   "cell_type": "code",
   "execution_count": 54,
   "metadata": {},
   "outputs": [
    {
     "data": {
      "text/html": [
       "<div>\n",
       "<style scoped>\n",
       "    .dataframe tbody tr th:only-of-type {\n",
       "        vertical-align: middle;\n",
       "    }\n",
       "\n",
       "    .dataframe tbody tr th {\n",
       "        vertical-align: top;\n",
       "    }\n",
       "\n",
       "    .dataframe thead th {\n",
       "        text-align: right;\n",
       "    }\n",
       "</style>\n",
       "<table border=\"1\" class=\"dataframe\">\n",
       "  <thead>\n",
       "    <tr style=\"text-align: right;\">\n",
       "      <th></th>\n",
       "      <th>lon</th>\n",
       "      <th>lat</th>\n",
       "    </tr>\n",
       "  </thead>\n",
       "  <tbody>\n",
       "    <tr>\n",
       "      <th>0</th>\n",
       "      <td>-73.938991</td>\n",
       "      <td>40.816662</td>\n",
       "    </tr>\n",
       "    <tr>\n",
       "      <th>1</th>\n",
       "      <td>-73.952210</td>\n",
       "      <td>40.597130</td>\n",
       "    </tr>\n",
       "    <tr>\n",
       "      <th>2</th>\n",
       "      <td>-73.916184</td>\n",
       "      <td>40.842335</td>\n",
       "    </tr>\n",
       "    <tr>\n",
       "      <th>3</th>\n",
       "      <td>-73.946481</td>\n",
       "      <td>40.631708</td>\n",
       "    </tr>\n",
       "    <tr>\n",
       "      <th>4</th>\n",
       "      <td>-74.012867</td>\n",
       "      <td>40.717175</td>\n",
       "    </tr>\n",
       "  </tbody>\n",
       "</table>\n",
       "</div>"
      ],
      "text/plain": [
       "         lon        lat\n",
       "0 -73.938991  40.816662\n",
       "1 -73.952210  40.597130\n",
       "2 -73.916184  40.842335\n",
       "3 -73.946481  40.631708\n",
       "4 -74.012867  40.717175"
      ]
     },
     "execution_count": 54,
     "metadata": {},
     "output_type": "execute_result"
    }
   ],
   "source": [
    "mf.head()"
   ]
  },
  {
   "cell_type": "code",
   "execution_count": 55,
   "metadata": {},
   "outputs": [
    {
     "data": {
      "text/plain": [
       "0    40.81666, -73.93899\n",
       "1    40.59713, -73.95221\n",
       "2    40.84234, -73.91618\n",
       "3    40.63171, -73.94648\n",
       "4    40.71718, -74.01287\n",
       "Name: location, dtype: object"
      ]
     },
     "execution_count": 55,
     "metadata": {},
     "output_type": "execute_result"
    }
   ],
   "source": [
    "mf = np.round(mf, decimals=5)\n",
    "mf['location'] = mf['lat'].astype(str) + ', ' + mf['lon'].astype(str)\n",
    "mf['location'].head()"
   ]
  },
  {
   "cell_type": "code",
   "execution_count": 56,
   "metadata": {},
   "outputs": [],
   "source": [
    "frequency = mf['location'].value_counts()"
   ]
  },
  {
   "cell_type": "code",
   "execution_count": 57,
   "metadata": {},
   "outputs": [
    {
     "data": {
      "text/plain": [
       "<matplotlib.axes._subplots.AxesSubplot at 0x2dc40292278>"
      ]
     },
     "execution_count": 57,
     "metadata": {},
     "output_type": "execute_result"
    },
    {
     "data": {
      "image/png": "[encoded data removed]",
      "text/plain": [
       "<Figure size 432x288 with 1 Axes>"
      ]
     },
     "metadata": {
      "needs_background": "light"
     },
     "output_type": "display_data"
    }
   ],
   "source": [
    "frequency.nlargest(5).plot()"
   ]
  },
  {
   "cell_type": "code",
   "execution_count": 58,
   "metadata": {
    "scrolled": true
   },
   "outputs": [
    {
     "name": "stderr",
     "output_type": "stream",
     "text": [
      "C:\\Users\\Steven\\AnacondaNew\\lib\\site-packages\\ipykernel_launcher.py:1: DeprecationWarning:\n",
      "\n",
      "Using Nominatim with the default \"geopy/1.20.0\" `user_agent` is strongly discouraged, as it violates Nominatim's ToS https://operations.osmfoundation.org/policies/nominatim/ and may possibly cause 403 and 429 HTTP errors. Please specify a custom `user_agent` with `Nominatim(user_agent=\"my-application\")` or by overriding the default `user_agent`: `geopy.geocoders.options.default_user_agent = \"my-application\"`. In geopy 2.0 this will become an exception.\n",
      "\n"
     ]
    },
    {
     "name": "stdout",
     "output_type": "stream",
     "text": [
      "Flatbush Avenue Extension, Downtown Brooklyn, BK, Kings County, NYC, New York, 11201-1832, USA\n",
      "\n",
      "Verrazzano-Narrows Bridge (Staten Island Bound), Fort Hamilton, BK, Kings County, NYC, New York, 11252, USA\n",
      "\n",
      "Royal Tuina, 242, East 36th Street, Murray Hill, Manhattan Community Board 6, Manhattan, New York County, NYC, New York, 10016, USA\n",
      "\n",
      "Kenmare Street, Little Italy, Manhattan Community Board 3, Manhattan, New York County, NYC, New York, 10002, USA\n",
      "\n",
      "East 138th Street, Port Morris, The Bronx, Bronx County, NYC, New York, 10454, USA\n",
      "\n",
      "57th Street, 6th Avenue, Midtown, Manhattan Community Board 5, Manhattan, New York County, NYC, New York, 10019, USA\n",
      "\n",
      "Veritable, 1201, 2nd Avenue, Lenox Hill, Manhattan Community Board 8, Manhattan, New York County, NYC, New York, 10035, USA\n",
      "\n",
      "Metropolitan Avenue, Rego Park, Queens, Queens County, NYC, New York, 11415, USA\n",
      "\n",
      "Pennsylvania Avenue, East New York, BK, Kings County, NYC, New York, 11239, USA\n",
      "\n",
      "Jamaica Avenue, Broadway Junction, BK, Kings County, NYC, New York, 11207, USA\n",
      "\n"
     ]
    }
   ],
   "source": [
    "geolocator = Nominatim()\n",
    "for c in frequency.nlargest(10).index.tolist():\n",
    "    location = geolocator.reverse(c)\n",
    "    print(location.address + \"\\n\")"
   ]
  },
  {
   "cell_type": "code",
   "execution_count": null,
   "metadata": {},
   "outputs": [],
   "source": []
  }
 ],
 "metadata": {
  "kernelspec": {
   "display_name": "Python 3",
   "language": "python",
   "name": "python3"
  },
  "language_info": {
   "codemirror_mode": {
    "name": "ipython",
    "version": 3
   },
   "file_extension": ".py",
   "mimetype": "text/x-python",
   "name": "python",
   "nbconvert_exporter": "python",
   "pygments_lexer": "ipython3",
   "version": "3.7.3"
  },
  "toc": {
   "base_numbering": 1,
   "nav_menu": {},
   "number_sections": true,
   "sideBar": true,
   "skip_h1_title": false,
   "title_cell": "Table of Contents",
   "title_sidebar": "Contents",
   "toc_cell": false,
   "toc_position": {},
   "toc_section_display": true,
   "toc_window_display": false
  }
 },
 "nbformat": 4,
 "nbformat_minor": 2
}
